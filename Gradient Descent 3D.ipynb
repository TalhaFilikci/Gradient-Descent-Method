{
 "cells": [
  {
   "cell_type": "code",
   "execution_count": 4,
   "id": "bf282449",
   "metadata": {},
   "outputs": [
    {
     "name": "stdout",
     "output_type": "stream",
     "text": [
      "x_random1 value: 0.74 \n",
      "y_random1 value: 0.79\n",
      "x_random2 value: 0.04\n",
      "y_random2 value: 0.62\n",
      "(0.74, 0.79, -0.009165632443279559)\n",
      "(0.04, 0.62, 0.02595599567324917)\n"
     ]
    }
   ],
   "source": [
    "#import libraries\n",
    "#open new window for animation\n",
    "%matplotlib qt\n",
    "import numpy as np\n",
    "import matplotlib.pyplot as plt\n",
    "\n",
    "#function\n",
    "def z_function(x,y):\n",
    "    return np.sin(2*x)*np.cos(2*y)\n",
    "#derivative of the function\n",
    "def z_derivative(x,y):\n",
    "    return np.cos(2*x)*np.cos(2*y), -np.sin(2*x)*np.sin(2*y)\n",
    "\n",
    "x = np.arange(-2, 2, 0.05)\n",
    "y = np.arange(-2, 2, 0.05)\n",
    "\n",
    "X,Y = np.meshgrid(x,y)\n",
    "Z = z_function(X,Y)\n",
    "\n",
    "#choosing random values for x1, x2 and y1, y2\n",
    "x_random1 = np.round(np.random.rand(),2)\n",
    "y_random1 = np.round(np.random.rand(),2)\n",
    "print(f\"x_random1 value: {x_random1} \\ny_random1 value: {y_random1}\")\n",
    "\n",
    "x_random2 = np.round(np.random.rand(),2)\n",
    "y_random2 = np.round(np.random.rand(),2)\n",
    "print(f\"x_random2 value: {x_random2}\\ny_random2 value: {y_random2}\")\n",
    "\n",
    "#random beginning x and y-position\n",
    "rand_cur_pos1 = (x_random1, y_random1, z_function(x_random1, y_random1))\n",
    "rand_cur_pos2 = (x_random2, y_random2, z_function(x_random2, y_random2))\n",
    "print(rand_cur_pos1)\n",
    "print(rand_cur_pos2)\n",
    "#defining learningrate\n",
    "learning_rate = 0.01\n",
    "\n",
    "#3D-Plot\n",
    "ax = plt.subplot(projection =\"3d\", computed_zorder=False)\n",
    "for _ in range(1000):\n",
    "    #derivative of x1 and y1 and set the new position\n",
    "    deriv_x, deriv_y = z_derivative(rand_cur_pos1[0], rand_cur_pos1[1])  \n",
    "    new_x1, new_y1 = rand_cur_pos1[0] - learning_rate* deriv_x, rand_cur_pos1[1] - learning_rate* deriv_y    \n",
    "    rand_cur_pos1 = (new_x1, new_y1, z_function(new_x1, new_y1))\n",
    "    \n",
    "    #derivative of x2 and y2 and set the new position\n",
    "    deriv_x, deriv_y = z_derivative(rand_cur_pos2[0], rand_cur_pos2[1])  \n",
    "    new_x2, new_y2 = rand_cur_pos2[0] - learning_rate* deriv_x, rand_cur_pos2[1] - learning_rate* deriv_y    \n",
    "    rand_cur_pos2 = (new_x2, new_y2, z_function(new_x2, new_y2))\n",
    "\n",
    "    ax.plot_surface(X,Y,Z, cmap='viridis')\n",
    "    ax.view_init(elev=60)\n",
    "    ax.scatter(rand_cur_pos1[0], rand_cur_pos1[1], rand_cur_pos1[2], color=\"magenta\", zorder=1)\n",
    "    ax.scatter(rand_cur_pos2[0], rand_cur_pos2[1], rand_cur_pos2[2], color=\"red\", zorder=1)\n",
    "    plt.pause(0.001)\n",
    "    ax.clear();"
   ]
  },
  {
   "cell_type": "code",
   "execution_count": null,
   "id": "8a96dc59",
   "metadata": {},
   "outputs": [],
   "source": []
  }
 ],
 "metadata": {
  "kernelspec": {
   "display_name": "Python 3 (ipykernel)",
   "language": "python",
   "name": "python3"
  },
  "language_info": {
   "codemirror_mode": {
    "name": "ipython",
    "version": 3
   },
   "file_extension": ".py",
   "mimetype": "text/x-python",
   "name": "python",
   "nbconvert_exporter": "python",
   "pygments_lexer": "ipython3",
   "version": "3.11.3"
  }
 },
 "nbformat": 4,
 "nbformat_minor": 5
}
