{
 "cells": [
  {
   "cell_type": "code",
   "execution_count": null,
   "id": "433d08ff",
   "metadata": {},
   "outputs": [],
   "source": [
    "#import libraries\n",
    "#open new window for animation\n",
    "%matplotlib qt\n",
    "import numpy as np\n",
    "import matplotlib.pyplot as plt\n",
    "from scipy import optimize\n",
    "\n",
    "#function\n",
    "def y_function(x):\n",
    "    return 2*x**2+3\n",
    "#derivative of the function\n",
    "def y_derivative(x):\n",
    "    return 4*x\n",
    "\n",
    "x = np.arange(-5, 5.1, 0.1)\n",
    "y = y_function(x)\n",
    "\n",
    "###random x-value between -5 and 5 for beginning position\n",
    "x_random =np.random.randint(-5,5)\n",
    "#random beginning x and y-position\n",
    "rand_pos = (x_random, y_function(x_random))\n",
    "\n",
    "learning_rate = 0.01\n",
    "\n",
    "#Zero of the function\n",
    "zero_function = np.round(np.abs(optimize.fsolve(y_function, -2)),3)\n",
    "print(\"zero of the function:\", zero_function)\n",
    "\n",
    "for _ in range(1000):\n",
    "    #get the actual x and y value\n",
    "    act_x = round(rand_pos[0] - learning_rate * y_derivative(rand_pos[0]),3)\n",
    "    act_y = round(y_function(act_x),3)  \n",
    "    rand_pos = (act_x, act_y)\n",
    "\n",
    "    print(\"x_new: {} and y_new: {}\".format(rand_pos[0], rand_pos[1]))\n",
    "    plt.plot(x, y)\n",
    "    plt.scatter(rand_pos[0], rand_pos[1], color=\"red\");\n",
    "    plt.pause(0.001)\n",
    "    plt.clf();"
   ]
  }
 ],
 "metadata": {
  "kernelspec": {
   "display_name": "Python 3 (ipykernel)",
   "language": "python",
   "name": "python3"
  },
  "language_info": {
   "codemirror_mode": {
    "name": "ipython",
    "version": 3
   },
   "file_extension": ".py",
   "mimetype": "text/x-python",
   "name": "python",
   "nbconvert_exporter": "python",
   "pygments_lexer": "ipython3",
   "version": "3.11.3"
  }
 },
 "nbformat": 4,
 "nbformat_minor": 5
}
